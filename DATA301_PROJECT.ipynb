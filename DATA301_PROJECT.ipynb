{
  "nbformat": 4,
  "nbformat_minor": 0,
  "metadata": {
    "colab": {
      "provenance": [],
      "authorship_tag": "ABX9TyMWCjR1TIFGoJ6UlMpg/1Ww",
      "include_colab_link": true
    },
    "kernelspec": {
      "name": "python3",
      "display_name": "Python 3"
    },
    "language_info": {
      "name": "python"
    }
  },
  "cells": [
    {
      "cell_type": "markdown",
      "metadata": {
        "id": "view-in-github",
        "colab_type": "text"
      },
      "source": [
        "<a href=\"https://colab.research.google.com/github/yyqbb/DATA201-Group-Project-2022/blob/main/DATA301_PROJECT.ipynb\" target=\"_parent\"><img src=\"https://colab.research.google.com/assets/colab-badge.svg\" alt=\"Open In Colab\"/></a>"
      ]
    },
    {
      "cell_type": "code",
      "execution_count": null,
      "metadata": {
        "colab": {
          "base_uri": "https://localhost:8080/"
        },
        "id": "35cZLe9_T7Cx",
        "outputId": "f0e3f31c-1970-4748-ecdd-45917c1c6eb0"
      },
      "outputs": [
        {
          "output_type": "execute_result",
          "data": {
            "text/plain": [
              "('renttherunway_final_data.json.gz',\n",
              " <http.client.HTTPMessage at 0x799589f80280>)"
            ]
          },
          "metadata": {},
          "execution_count": 1
        }
      ],
      "source": [
        "import urllib.request\n",
        "filename = 'renttherunway_final_data.json.gz'\n",
        "urllib.request.urlretrieve('https://datarepo.eng.ucsd.edu/mcauley_group/data/renttherunway/renttherunway_final_data.json.gz', filename)"
      ]
    },
    {
      "cell_type": "code",
      "source": [
        "!pip install ijson"
      ],
      "metadata": {
        "colab": {
          "base_uri": "https://localhost:8080/"
        },
        "id": "-tUOh3sRUNzl",
        "outputId": "fc8b762e-3a78-4433-afdc-11fe7b4727e7"
      },
      "execution_count": null,
      "outputs": [
        {
          "output_type": "stream",
          "name": "stdout",
          "text": [
            "Requirement already satisfied: ijson in /usr/local/lib/python3.10/dist-packages (3.2.3)\n"
          ]
        }
      ]
    },
    {
      "cell_type": "code",
      "source": [
        "import urllib.request\n",
        "import gzip\n",
        "import shutil\n",
        "import json\n",
        "\n",
        "# Download the compressed file\n",
        "filename = \"renttherunway_final_data.json.gz\"\n",
        "url = \"https://datarepo.eng.ucsd.edu/mcauley_group/data/renttherunway/renttherunway_final_data.json.gz\"\n",
        "urllib.request.urlretrieve(url, filename)\n",
        "\n",
        "# Decompress the file\n",
        "decompressed_filename = \"renttherunway_final_data.json\"\n",
        "with gzip.open(filename, \"rb\") as f_in:\n",
        "    with open(decompressed_filename, \"wb\") as f_out:\n",
        "        shutil.copyfileobj(f_in, f_out)\n",
        "\n",
        "print(\"File decompressed successfully:\", decompressed_filename)\n",
        "\n",
        "def filter_data_and_update(filename):\n",
        "    updated_entries = []\n",
        "    with open(filename, 'r') as f:\n",
        "        for line in f:\n",
        "            entry = json.loads(line)\n",
        "            if \"body type\" in entry and \"rating\" in entry and \"review_text\" in entry and \"fit\" in entry:\n",
        "                updated_entries.append({\n",
        "                    \"body type\": entry[\"body type\"],\n",
        "                    \"rating\": entry[\"rating\"],\n",
        "                    \"review_text\": entry[\"review_text\"],\n",
        "                    \"fit\": entry[\"fit\"]  # Include the \"fit\" field\n",
        "                })\n",
        "\n",
        "    # Write the updated entries back to the file\n",
        "    with open(filename, 'w') as f:\n",
        "        for entry in updated_entries:\n",
        "            json.dump(entry, f)\n",
        "            f.write('\\n')\n",
        "\n",
        "    print(\"File updated successfully\")\n",
        "\n",
        "# Update the file\n",
        "filter_data_and_update(decompressed_filename)\n"
      ],
      "metadata": {
        "colab": {
          "base_uri": "https://localhost:8080/"
        },
        "id": "qsdFsXqSUbFi",
        "outputId": "64233dff-92b6-40af-e11f-5b385b49eaf4"
      },
      "execution_count": null,
      "outputs": [
        {
          "output_type": "stream",
          "name": "stdout",
          "text": [
            "File decompressed successfully: renttherunway_final_data.json\n",
            "File updated successfully\n"
          ]
        }
      ]
    },
    {
      "cell_type": "code",
      "source": [
        "!head -10 'renttherunway_final_data.json'\n",
        "!tail -10 'renttherunway_final_data.json'"
      ],
      "metadata": {
        "colab": {
          "base_uri": "https://localhost:8080/"
        },
        "id": "RZt4rzGtb8_Q",
        "outputId": "b25666c5-b665-474c-99cc-3eb2a3e61c0a"
      },
      "execution_count": null,
      "outputs": [
        {
          "output_type": "stream",
          "name": "stdout",
          "text": [
            "{\"body type\": \"hourglass\", \"rating\": \"10\", \"review_text\": \"An adorable romper! Belt and zipper were a little hard to navigate in a full day of wear/bathroom use, but that's to be expected. Wish it had pockets, but other than that-- absolutely perfect! I got a million compliments.\", \"fit\": \"fit\"}\n",
            "{\"body type\": \"straight & narrow\", \"rating\": \"10\", \"review_text\": \"I rented this dress for a photo shoot. The theme was \\\"Hollywood Glam and Big Beautiful Hats\\\". The dress was very comfortable and easy to move around in. It is definitely on my list to rent again for another formal event. \", \"fit\": \"fit\"}\n",
            "{\"body type\": \"pear\", \"rating\": \"8\", \"review_text\": \"I rented this for my company's black tie awards banquet.  I liked that this dress was short but was a little fancier with the sequins. (I generally don't care for long dresses.)  I would describe the color as more rose gold than yellow gold.  I have blonde hair and fair skin, and the color was very flattering.  This is a very forgiving dress! It's form fitting without making you feel like you're squeezed into it.  I would rent this one again.  Highly recommend!\", \"fit\": \"fit\"}\n",
            "{\"body type\": \"athletic\", \"rating\": \"10\", \"review_text\": \"I have always been petite in my upper body and extremely athletic. \\nI'm 5'9 and typically am a size 4,6,8 due to the fact I had a smaller upper frame and 34B cup. Depends what fabric were talking about too! \\nHowever, because I have been lifting weights my back has grown (odd to add- but figured I'd say it knowing other people lift weights) My lat area is so wide that I was suffocating in a size 6. If I wasn't as muscular in my back I would've been fine. I would recommend to go up a size if you are into lifting weights and very broad in your upper body. \", \"fit\": \"fit\"}\n",
            "{\"body type\": \"athletic\", \"rating\": \"8\", \"review_text\": \"Didn't actually wear it. It fit perfectly. The fabric is a little thicker, so higher quality. Felt a bit too conservative for my taste. I rented it for the color and loved the berry shade of red.\", \"fit\": \"fit\"}\n",
            "{\"body type\": \"hourglass\", \"rating\": \"10\", \"review_text\": \"This dress is so sweet. I loved the print. The fit is loose with a tie for the waist, which means it should flatter most figures. Another win from Kate Spade!\", \"fit\": \"fit\"}\n",
            "{\"body type\": \"full bust\", \"rating\": \"10\", \"review_text\": \"Fit was great. Maybe a little tight under the arms. \", \"fit\": \"fit\"}\n",
            "{\"body type\": \"full bust\", \"rating\": \"10\", \"review_text\": \"I was nervous of it looking cheap when it arrived but I received a ton of compliments on it and it had built in support. I am a 36D and there was still that I was able to wear a bra with it with no problem. Wore with 3-4\\\" heels and it was perfect length.\", \"fit\": \"fit\"}\n",
            "{\"body type\": \"petite\", \"rating\": \"10\", \"review_text\": \"The dress was very flattering and fit perfectly through my stomach and hips. I have a booty so I always worry about how things are going to fit, but this was amazing. I have a small chest and didn't fill out the built in bra as much as I would have liked, but it still looked great and I was comfortable in it. The dress had more stretch and give than I thought it would. I was worried I wouldn't be able to enjoy dancing and while I couldn't bust out break dance moves, I was able to dance without feeling completely restricted. I am always a zero in dresses and this fit true to size. I'm short, 5'3\\\" and I thought the length was perfect with a heel. Overall I'm very pleased with my order!! Thank you RTR!\", \"fit\": \"fit\"}\n",
            "{\"body type\": \"athletic\", \"rating\": \"8\", \"review_text\": \"The dress arrived with a small hole in the beading on the front but wasn't too noticeable. Glad I was able to get two sizes because the 4 was a little tight and would've made for an uncomfortable night of dancing! \", \"fit\": \"small\"}\n",
            "{\"body type\": \"pear\", \"rating\": \"10\", \"review_text\": \"Stunning dress! I took a risk with my Unlimited subscription, knowing I probably couldn't wear it due to my less-than-flat midsection. Sure enough, I wasn't able to wear it because not only does the cut hug your curves, but it is also made of a somewhat thin material. However, every other part was gorgeous, and it would look great on anyone who doesn't have to worry about things fitting too tightly over her stomach.\", \"fit\": \"fit\"}\n",
            "{\"body type\": \"hourglass\", \"rating\": \"4\", \"review_text\": \"Very hard to wear because the shoulders are super stiff. Cannot move arms if worn the way it's described in the pictures. Gets awkward if it's not worn that way so kind of difficult to wear. \", \"fit\": \"fit\"}\n",
            "{\"body type\": \"full bust\", \"rating\": \"8\", \"review_text\": \"Based on reviews I ordered a 4 and a 6. The 4 was too big in my waist,  about an inch or so so it didn't hug my body like I had hoped. It left an unflattering fit from the side..it would have been perfect w minor alterations .Next time I'll try the 2. The dress is very short , but still classy.  All and all I am extremely happy with the rental! \", \"fit\": \"large\"}\n",
            "{\"body type\": \"hourglass\", \"rating\": \"10\", \"review_text\": \"The materials is thick and very high quality. It fits like a glove. I was very comfortable all night.\", \"fit\": \"fit\"}\n",
            "{\"body type\": \"hourglass\", \"rating\": \"8\", \"review_text\": \"I wore this dress at my rehearsal dinner and it was very comfortable!  The fabric feels very high quality and it flows very well.  Dictate the dress size by the size of your waist.  The fabric is slightly stretchy so that is why some people say it runs big.  I have a large chest (34D), a small waist (size 2), and larger hips (6-8).  I ordered a 2 and it worked well.  \", \"fit\": \"large\"}\n",
            "{\"body type\": \"hourglass\", \"rating\": \"10\", \"review_text\": \"Fit like a glove!\", \"fit\": \"fit\"}\n",
            "{\"body type\": \"petite\", \"rating\": \"10\", \"review_text\": \"The pattern contrast on this dress is really stunning. I usually wear a 0, but went with the 2 because I was impatiently waiting to rent this! It worked just fine because this is a wrap dress. I wore a navy cami underneath so it was more work appropriate. Love that the bottom is a thicker silk material that hold the shape. Highly recommend. \", \"fit\": \"fit\"}\n",
            "{\"body type\": \"straight & narrow\", \"rating\": \"6\", \"review_text\": \"Like the other DVF wraps, the fit on this is fantastic, albeit the collar drops a little low depending on how you cinch the wrap. This pattern looks great from far away, but close up it is very in-your-face. Not my favorite DVF wrap due to that, but may be a personal preference. \", \"fit\": \"fit\"}\n",
            "{\"body type\": \"pear\", \"rating\": \"10\", \"review_text\": \"This dress was PERFECTION.  it looked incredible in photos and we LOVED wearing it. every girl in the wedding party looked incredible and we are so happy that our beautiful Bride chose this dress. I wish i didn't need to return it!\\nThe only issue was for 2 of the girls the stitch was missing at the bust which made for a VERY low cut V neck.  each girl in the wedding party ended up wearing their smaller of their 2 size options rented.  \", \"fit\": \"fit\"}\n",
            "{\"body type\": \"athletic\", \"rating\": \"10\", \"review_text\": \"This dress was wonderful! I had originally planned to wear the BCBG MAXAZRIA Inevitable Beauty Gown, but the fit was not amazing (if you have meat on your thighs, steer clear of it). The dress I wore was a backup style and I was so happy I had it. It was so comfortable and flattering. It is also pretty forgiving. I received compliments all night from other quests and strangers on the street. I highly recommend choosing this dress if you have a black tie or black tie optional wedding to attend. \", \"fit\": \"fit\"}\n"
          ]
        }
      ]
    },
    {
      "cell_type": "code",
      "source": [
        "import os\n",
        "\n",
        "filename = 'renttherunway_final_data.json'\n",
        "\n",
        "# Check if the file exists\n",
        "if os.path.exists(filename):\n",
        "    # Get the size of the file in bytes\n",
        "    file_size = os.path.getsize(filename)\n",
        "\n",
        "    if file_size > 0:\n",
        "        print(f\"The file '{filename}' contains data. Size: {file_size} bytes.\")\n",
        "    else:\n",
        "        print(f\"The file '{filename}' is empty.\")\n",
        "else:\n",
        "    print(f\"The file '{filename}' does not exist.\")"
      ],
      "metadata": {
        "colab": {
          "base_uri": "https://localhost:8080/"
        },
        "id": "Avkyb5jv2pM0",
        "outputId": "3ed5b8a7-2505-4d17-d130-464c4c6b4ee5"
      },
      "execution_count": null,
      "outputs": [
        {
          "output_type": "stream",
          "name": "stdout",
          "text": [
            "The file 'renttherunway_final_data.json' contains data. Size: 64925918 bytes.\n"
          ]
        }
      ]
    },
    {
      "cell_type": "code",
      "source": [
        "import json\n",
        "import pandas as pd\n",
        "\n",
        "# Read the JSON file into a DataFrame\n",
        "df = pd.read_json('renttherunway_final_data.json', lines=True)\n",
        "\n",
        "# Group by 'body type' and calculate the mean rating for each group\n",
        "mean_ratings = df.groupby('body type')['rating'].mean().reset_index()\n",
        "\n",
        "# Sort the DataFrame by mean rating in descending order\n",
        "mean_ratings_sorted = mean_ratings.sort_values(by='rating', ascending=False)\n",
        "\n",
        "# Output the mean ratings for each body type\n",
        "print(\"Mean Ratings for Each Body Type (Highest to Lowest):\")\n",
        "print(mean_ratings_sorted.to_string(index=False))\n"
      ],
      "metadata": {
        "colab": {
          "base_uri": "https://localhost:8080/"
        },
        "id": "rshUnSOpr9YL",
        "outputId": "29ee0cc6-23c5-4401-9c64-f300dbf0ba91"
      },
      "execution_count": null,
      "outputs": [
        {
          "output_type": "stream",
          "name": "stdout",
          "text": [
            "Mean Ratings for Each Body Type (Highest to Lowest):\n",
            "        body type   rating\n",
            "straight & narrow 9.157338\n",
            "         athletic 9.122010\n",
            "           petite 9.079732\n",
            "        hourglass 9.077783\n",
            "             pear 9.041399\n",
            "        full bust 9.022468\n",
            "            apple 8.928030\n"
          ]
        }
      ]
    },
    {
      "cell_type": "code",
      "source": [
        "import dask\n",
        "# from dask import dataframe as ddf\n",
        "from dask import bag as db\n",
        "\n",
        "# data_df = ddf.read_json('filter-all-t.jsonl', blocksize=\"1MB\")\n",
        "data_bag = db.read_text('renttherunway_final_data.json', blocksize=\"1MB\")\n",
        "print(data_bag)"
      ],
      "metadata": {
        "colab": {
          "base_uri": "https://localhost:8080/"
        },
        "id": "jLyt2lI-4e6F",
        "outputId": "55288f21-372e-409d-d69a-fb5fadbf723d"
      },
      "execution_count": null,
      "outputs": [
        {
          "output_type": "stream",
          "name": "stdout",
          "text": [
            "dask.bag<bag-from-delayed, npartitions=18>\n"
          ]
        }
      ]
    },
    {
      "cell_type": "code",
      "source": [
        "from sklearn.cluster import KMeans\n",
        "from sklearn.preprocessing import StandardScaler\n",
        "import matplotlib.pyplot as plt\n",
        "\n",
        "# Select relevant features for clustering\n",
        "features = df[['size', 'age']]\n",
        "\n",
        "# Standardize the features\n",
        "scaler = StandardScaler()\n",
        "scaled_features = scaler.fit_transform(features)\n",
        "\n",
        "# Determine the optimal number of clusters using the Elbow Method\n",
        "inertia = []\n",
        "for i in range(1, 11):\n",
        "    kmeans = KMeans(n_clusters=i, random_state=42)\n",
        "    kmeans.fit(scaled_features)\n",
        "    inertia.append(kmeans.inertia_)\n",
        "\n",
        "# Plot the Elbow Method to visualize the optimal number of clusters\n",
        "plt.plot(range(1, 11), inertia, marker='o')\n",
        "plt.xlabel('Number of Clusters')\n",
        "plt.ylabel('Inertia')\n",
        "plt.title('Elbow Method')\n",
        "plt.show()\n",
        "\n",
        "# Based on the Elbow Method, choose the optimal number of clusters\n",
        "k = 3\n",
        "\n",
        "# Perform k-means clustering\n",
        "kmeans = KMeans(n_clusters=k, random_state=42)\n",
        "clusters = kmeans.fit_predict(scaled_features)\n",
        "\n",
        "# Add cluster labels to the DataFrame\n",
        "df['cluster'] = clusters\n",
        "\n",
        "# Output cluster centers\n",
        "print(\"Cluster Centers:\")\n",
        "print(scaler.inverse_transform(kmeans.cluster_centers_))\n",
        "\n",
        "# Visualize clusters\n",
        "plt.scatter(df['size'], df['age'], c=clusters, cmap='viridis', alpha=0.5)\n",
        "plt.xlabel('Size')\n",
        "plt.ylabel('Age')\n",
        "plt.title('Cluster Analysis')\n",
        "plt.show()\n"
      ],
      "metadata": {
        "colab": {
          "base_uri": "https://localhost:8080/",
          "height": 211
        },
        "id": "KCPzToHo5r7_",
        "outputId": "6e76d2bd-d319-4132-fc21-625d39d6ee06"
      },
      "execution_count": null,
      "outputs": [
        {
          "output_type": "error",
          "ename": "NameError",
          "evalue": "name 'df' is not defined",
          "traceback": [
            "\u001b[0;31m---------------------------------------------------------------------------\u001b[0m",
            "\u001b[0;31mNameError\u001b[0m                                 Traceback (most recent call last)",
            "\u001b[0;32m<ipython-input-2-9aedc30f672a>\u001b[0m in \u001b[0;36m<cell line: 6>\u001b[0;34m()\u001b[0m\n\u001b[1;32m      4\u001b[0m \u001b[0;34m\u001b[0m\u001b[0m\n\u001b[1;32m      5\u001b[0m \u001b[0;31m# Select relevant features for clustering\u001b[0m\u001b[0;34m\u001b[0m\u001b[0;34m\u001b[0m\u001b[0m\n\u001b[0;32m----> 6\u001b[0;31m \u001b[0mfeatures\u001b[0m \u001b[0;34m=\u001b[0m \u001b[0mdf\u001b[0m\u001b[0;34m[\u001b[0m\u001b[0;34m[\u001b[0m\u001b[0;34m'size'\u001b[0m\u001b[0;34m,\u001b[0m \u001b[0;34m'age'\u001b[0m\u001b[0;34m]\u001b[0m\u001b[0;34m]\u001b[0m\u001b[0;34m\u001b[0m\u001b[0;34m\u001b[0m\u001b[0m\n\u001b[0m\u001b[1;32m      7\u001b[0m \u001b[0;34m\u001b[0m\u001b[0m\n\u001b[1;32m      8\u001b[0m \u001b[0;31m# Standardize the features\u001b[0m\u001b[0;34m\u001b[0m\u001b[0;34m\u001b[0m\u001b[0m\n",
            "\u001b[0;31mNameError\u001b[0m: name 'df' is not defined"
          ]
        }
      ]
    },
    {
      "cell_type": "code",
      "source": [
        "!pip install nltk"
      ],
      "metadata": {
        "colab": {
          "base_uri": "https://localhost:8080/"
        },
        "id": "x0w3gTEu4ny2",
        "outputId": "3f20946a-fb06-4ed1-f5a4-832a3fb9598d"
      },
      "execution_count": null,
      "outputs": [
        {
          "output_type": "stream",
          "name": "stdout",
          "text": [
            "Requirement already satisfied: nltk in /usr/local/lib/python3.10/dist-packages (3.8.1)\n",
            "Requirement already satisfied: click in /usr/local/lib/python3.10/dist-packages (from nltk) (8.1.7)\n",
            "Requirement already satisfied: joblib in /usr/local/lib/python3.10/dist-packages (from nltk) (1.4.2)\n",
            "Requirement already satisfied: regex>=2021.8.3 in /usr/local/lib/python3.10/dist-packages (from nltk) (2023.12.25)\n",
            "Requirement already satisfied: tqdm in /usr/local/lib/python3.10/dist-packages (from nltk) (4.66.4)\n"
          ]
        }
      ]
    },
    {
      "cell_type": "code",
      "source": [
        "import nltk\n",
        "nltk.download('stopwords')\n",
        "\n",
        "from nltk.corpus import stopwords\n",
        "\n",
        "STOP_WORDS = set(stopwords.words('english'))\n",
        "print(STOP_WORDS)"
      ],
      "metadata": {
        "colab": {
          "base_uri": "https://localhost:8080/"
        },
        "id": "NFv933ch4qHh",
        "outputId": "a8652ca3-5b3f-4b31-ffa3-37c603f7145d"
      },
      "execution_count": null,
      "outputs": [
        {
          "output_type": "stream",
          "name": "stdout",
          "text": [
            "{'did', \"shan't\", 'weren', 'all', 'its', 'are', 'which', 'yours', 'too', 'no', \"she's\", 'to', 'any', \"doesn't\", 'needn', 'as', 'herself', 'whom', 'couldn', 'up', 'against', 'other', 'each', 'how', 'a', 'they', 'you', \"aren't\", 'just', 'again', 'wouldn', 'myself', 'only', 'am', 'if', 'will', 'your', 'own', \"hasn't\", 'those', 'aren', 'can', 'll', \"couldn't\", \"mightn't\", \"should've\", 'themselves', 'my', 'isn', \"that'll\", 'an', \"you've\", 'while', 'who', 'is', 'ours', \"you're\", 'do', 're', 'their', 'not', 'ain', 'hasn', 'nor', 'into', 'ma', 'where', 'what', 'when', 't', \"hadn't\", 'these', \"don't\", \"haven't\", 'but', 'that', 'very', 'by', 'during', 'shan', 'her', \"it's\", 'until', 'i', \"won't\", 'were', 'before', 'same', 'me', 'he', \"shouldn't\", 'himself', 'wasn', 'them', 'both', 'now', \"wouldn't\", 'between', 'why', 'we', 've', 'yourselves', 'theirs', 'the', 'don', 'itself', 'mustn', 'ourselves', 'be', 'yourself', 'under', 'd', 'about', \"needn't\", 'out', 's', 'further', 'our', 'more', 'haven', \"weren't\", 'his', 'at', 'or', 'being', 'on', 'then', 'has', \"mustn't\", 'off', 'and', 'because', 'she', 'been', 'after', 'above', \"didn't\", 'most', 'hadn', 'doesn', 'in', 'over', 'down', 'than', 'won', \"isn't\", 'him', 'some', 'didn', 'below', 'should', 'o', \"wasn't\", 'does', 'm', 'y', 'was', \"you'd\", 'so', 'this', 'for', 'few', 'through', \"you'll\", 'have', 'there', 'had', 'of', 'mightn', 'such', 'with', 'hers', 'it', 'from', 'once', 'having', 'here', 'shouldn', 'doing'}\n"
          ]
        },
        {
          "output_type": "stream",
          "name": "stderr",
          "text": [
            "[nltk_data] Downloading package stopwords to /root/nltk_data...\n",
            "[nltk_data]   Package stopwords is already up-to-date!\n"
          ]
        }
      ]
    },
    {
      "cell_type": "code",
      "source": [
        "import re\n",
        "import json\n",
        "\n",
        "def remove_nonletters(word):\n",
        "    return re.sub(r'[^a-zA-Z]', '', word)\n",
        "\n",
        "def process_line(line):\n",
        "    entry = json.loads(line)\n",
        "    results = []\n",
        "    body_type = entry['body type']  # Adjusted to 'body type'\n",
        "    # removes punctuation and converts to lowercase\n",
        "    review = re.sub(r'[^a-zA-Z ]', '', entry['review_summary'].lower())\n",
        "    for word in review.split(\" \"):\n",
        "        # don't keep any words that are in STOP_WORDS\n",
        "        if len(word) > 0 and word not in STOP_WORDS:\n",
        "            results.append((body_type, word))\n",
        "    return results\n",
        "\n",
        "reviews_only_valid_words = data_bag.map(process_line).flatten()\n",
        "body_type_words_df = reviews_only_valid_words.to_dataframe(columns=['body type', 'word'])  # Adjusted to 'body type'\n",
        "body_type_words_df_with_counts = body_type_words_df.groupby(['body type','word']).size().to_frame('counts').reset_index()  # Adjusted to 'body type'\n",
        "for body_type in body_type_words_df_with_counts['body type'].unique().compute():  # Adjusted to 'body type'\n",
        "    print(f\"Top ten words for {body_type} body type:\")\n",
        "    print(body_type_words_df_with_counts[body_type_words_df_with_counts['body type'] == body_type].nlargest(10, 'counts').compute())  # Adjusted to 'body type'\n"
      ],
      "metadata": {
        "id": "Omt7hFRU426k",
        "colab": {
          "base_uri": "https://localhost:8080/"
        },
        "outputId": "9dee0396-2a0c-4299-f834-df4cface94f7"
      },
      "execution_count": null,
      "outputs": [
        {
          "output_type": "stream",
          "name": "stdout",
          "text": [
            "Top ten words for apple body type:\n",
            "    body type         word  counts\n",
            "97      apple        dress    1998\n",
            "168     apple        great     596\n",
            "28      apple    beautiful     506\n",
            "273     apple      perfect     504\n",
            "73      apple  compliments     497\n",
            "68      apple  comfortable     415\n",
            "221     apple        loved     324\n",
            "425     apple      wedding     319\n",
            "64      apple        color     266\n",
            "440     apple         wore     262\n",
            "Top ten words for athletic body type:\n",
            "     body type         word  counts\n",
            "877   athletic        dress   18621\n",
            "1098  athletic        great    5413\n",
            "1504  athletic      perfect    5178\n",
            "750   athletic  compliments    4651\n",
            "565   athletic    beautiful    4137\n",
            "734   athletic  comfortable    3441\n",
            "1299  athletic        loved    3420\n",
            "2024  athletic      wedding    3068\n",
            "726   athletic        color    2846\n",
            "997   athletic          fit    2740\n",
            "Top ten words for full bust body type:\n",
            "      body type         word  counts\n",
            "2319  full bust        dress    6214\n",
            "2441  full bust        great    1980\n",
            "2258  full bust  compliments    1513\n",
            "2152  full bust    beautiful    1467\n",
            "2638  full bust      perfect    1430\n",
            "2245  full bust  comfortable    1205\n",
            "2544  full bust        loved    1111\n",
            "2383  full bust          fit     966\n",
            "2925  full bust      wedding     915\n",
            "2240  full bust        color     890\n",
            "Top ten words for hourglass body type:\n",
            "      body type         word  counts\n",
            "3412  hourglass        dress   22328\n",
            "3665  hourglass        great    6318\n",
            "4100  hourglass      perfect    5855\n",
            "3279  hourglass  compliments    5602\n",
            "3069  hourglass    beautiful    5589\n",
            "3879  hourglass        loved    3903\n",
            "3258  hourglass  comfortable    3876\n",
            "3549  hourglass          fit    3429\n",
            "3250  hourglass        color    3374\n",
            "4690  hourglass      wedding    3198\n",
            "Top ten words for pear body type:\n",
            "     body type         word  counts\n",
            "5032      pear        dress    9052\n",
            "5200      pear        great    2587\n",
            "5443      pear      perfect    2412\n",
            "4834      pear    beautiful    2286\n",
            "4951      pear  compliments    2174\n",
            "4940      pear  comfortable    1686\n",
            "5788      pear      wedding    1489\n",
            "5330      pear        loved    1454\n",
            "5122      pear          fit    1343\n",
            "4935      pear        color    1287\n",
            "Top ten words for petite body type:\n",
            "     body type         word  counts\n",
            "6067    petite        dress    9179\n",
            "6231    petite        great    2600\n",
            "6448    petite      perfect    2586\n",
            "6003    petite  compliments    2230\n",
            "5904    petite    beautiful    2211\n",
            "6340    petite        loved    1641\n",
            "6782    petite      wedding    1544\n",
            "5989    petite  comfortable    1471\n",
            "6161    petite          fit    1390\n",
            "5984    petite        color    1305\n",
            "Top ten words for straight & narrow body type:\n",
            "              body type         word  counts\n",
            "7006  straight & narrow        dress    5691\n",
            "7117  straight & narrow        great    1734\n",
            "7291  straight & narrow      perfect    1602\n",
            "6958  straight & narrow  compliments    1386\n",
            "6872  straight & narrow    beautiful    1346\n",
            "7207  straight & narrow        loved    1001\n",
            "6950  straight & narrow  comfortable     940\n",
            "7543  straight & narrow      wedding     912\n",
            "7065  straight & narrow          fit     899\n",
            "6946  straight & narrow        color     816\n"
          ]
        }
      ]
    }
  ]
}