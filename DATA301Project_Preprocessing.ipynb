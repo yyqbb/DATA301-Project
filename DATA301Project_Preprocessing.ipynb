{
  "nbformat": 4,
  "nbformat_minor": 0,
  "metadata": {
    "colab": {
      "provenance": [],
      "authorship_tag": "ABX9TyPyzzlM3NsVDml7so9EnQ2r",
      "include_colab_link": true
    },
    "kernelspec": {
      "name": "python3",
      "display_name": "Python 3"
    },
    "language_info": {
      "name": "python"
    }
  },
  "cells": [
    {
      "cell_type": "markdown",
      "metadata": {
        "id": "view-in-github",
        "colab_type": "text"
      },
      "source": [
        "<a href=\"https://colab.research.google.com/github/yyqbb/DATA301-Project/blob/main/DATA301Project_Preprocessing.ipynb\" target=\"_parent\"><img src=\"https://colab.research.google.com/assets/colab-badge.svg\" alt=\"Open In Colab\"/></a>"
      ]
    },
    {
      "cell_type": "markdown",
      "source": [
        "**Yaquub Ali**\n",
        "**DATA301 Project**\n",
        "**97166977**\n",
        "\n",
        "- The purpose of this notebook is to do the pre-processing for all of my data which prevents me having to read in the full dataset everytime a new instance of the main notebook is ran which results in higher project efficiency."
      ],
      "metadata": {
        "id": "xYli3nRTx5Ir"
      }
    },
    {
      "cell_type": "code",
      "source": [
        " !pip install dask"
      ],
      "metadata": {
        "colab": {
          "base_uri": "https://localhost:8080/"
        },
        "id": "gQbra1uvx7AH",
        "outputId": "cd7b4409-83f2-4f6b-c570-b10c1a2d14f4"
      },
      "execution_count": 1,
      "outputs": [
        {
          "output_type": "stream",
          "name": "stdout",
          "text": [
            "Requirement already satisfied: dask in /usr/local/lib/python3.10/dist-packages (2023.8.1)\n",
            "Requirement already satisfied: click>=8.0 in /usr/local/lib/python3.10/dist-packages (from dask) (8.1.7)\n",
            "Requirement already satisfied: cloudpickle>=1.5.0 in /usr/local/lib/python3.10/dist-packages (from dask) (2.2.1)\n",
            "Requirement already satisfied: fsspec>=2021.09.0 in /usr/local/lib/python3.10/dist-packages (from dask) (2023.6.0)\n",
            "Requirement already satisfied: packaging>=20.0 in /usr/local/lib/python3.10/dist-packages (from dask) (24.0)\n",
            "Requirement already satisfied: partd>=1.2.0 in /usr/local/lib/python3.10/dist-packages (from dask) (1.4.2)\n",
            "Requirement already satisfied: pyyaml>=5.3.1 in /usr/local/lib/python3.10/dist-packages (from dask) (6.0.1)\n",
            "Requirement already satisfied: toolz>=0.10.0 in /usr/local/lib/python3.10/dist-packages (from dask) (0.12.1)\n",
            "Requirement already satisfied: importlib-metadata>=4.13.0 in /usr/local/lib/python3.10/dist-packages (from dask) (7.1.0)\n",
            "Requirement already satisfied: zipp>=0.5 in /usr/local/lib/python3.10/dist-packages (from importlib-metadata>=4.13.0->dask) (3.18.2)\n",
            "Requirement already satisfied: locket in /usr/local/lib/python3.10/dist-packages (from partd>=1.2.0->dask) (1.0.0)\n"
          ]
        }
      ]
    },
    {
      "cell_type": "code",
      "source": [
        "from google.colab import drive\n",
        "drive.mount('/content/drive')"
      ],
      "metadata": {
        "colab": {
          "base_uri": "https://localhost:8080/"
        },
        "id": "DdSB0JwSp7R7",
        "outputId": "33b02f2d-57d3-4465-a05a-86cc24a32333"
      },
      "execution_count": 2,
      "outputs": [
        {
          "output_type": "stream",
          "name": "stdout",
          "text": [
            "Mounted at /content/drive\n"
          ]
        }
      ]
    },
    {
      "cell_type": "code",
      "source": [
        "import urllib.request\n",
        "import gzip\n",
        "import shutil\n",
        "import json\n",
        "import dask.bag as db\n",
        "import numpy as np\n",
        "\n",
        "# Download the compressed file\n",
        "filename = \"renttherunway_final_data.json.gz\"\n",
        "url = \"https://datarepo.eng.ucsd.edu/mcauley_group/data/renttherunway/renttherunway_final_data.json.gz\"\n",
        "urllib.request.urlretrieve(url, filename)\n",
        "\n",
        "# Decompress the file\n",
        "decompressed_filename = \"renttherunway_final_data.json\"\n",
        "with gzip.open(filename, \"rb\") as f_in:\n",
        "    with open(decompressed_filename, \"wb\") as f_out:\n",
        "        shutil.copyfileobj(f_in, f_out)\n",
        "\n",
        "print(\"File decompressed successfully:\", decompressed_filename)\n",
        "\n",
        "def filter_data_and_update(filename):\n",
        "    updated_entries = []\n",
        "    with open(filename, 'r') as f:\n",
        "        for line in f:\n",
        "            entry = json.loads(line)\n",
        "            if \"body type\" in entry and \"rating\" in entry and \"review_text\" in entry and \"fit\" in entry:\n",
        "                updated_entries.append({\n",
        "                    \"body type\": entry[\"body type\"],\n",
        "                    \"rating\": entry[\"rating\"],\n",
        "                    \"review_text\": entry[\"review_text\"],\n",
        "                    \"fit\": entry[\"fit\"]  # Include the \"fit\" field\n",
        "                })\n",
        "\n",
        "    # Write the updated entries back to the file, each entry on a new line\n",
        "    with open(filename, 'w') as f:\n",
        "        for entry in updated_entries:\n",
        "            f.write(json.dumps(entry) + '\\n')\n",
        "\n",
        "    print(\"File updated successfully\")\n",
        "\n",
        "# Update the file\n",
        "filter_data_and_update(decompressed_filename)\n",
        "\n",
        "# Move the updated file to Google Drive\n",
        "file_path = '/content/drive/My Drive/processed_data.json'\n",
        "shutil.copy(decompressed_filename, file_path)\n",
        "print(\"Data saved to Google Drive:\", file_path)"
      ],
      "metadata": {
        "colab": {
          "base_uri": "https://localhost:8080/"
        },
        "id": "pjFJHW80qpDE",
        "outputId": "2f6dd6b7-12fd-4b02-a8f6-efbef9a64ab0"
      },
      "execution_count": 3,
      "outputs": [
        {
          "output_type": "stream",
          "name": "stdout",
          "text": [
            "File decompressed successfully: renttherunway_final_data.json\n",
            "File updated successfully\n",
            "Data saved to Google Drive: /content/drive/My Drive/processed_data.json\n"
          ]
        }
      ]
    },
    {
      "cell_type": "code",
      "source": [
        "import dask.bag as db\n",
        "\n",
        "# Load the processed data from Google Drive\n",
        "data_bag = db.read_text(file_path, blocksize=\"1MB\").map(json.loads)\n",
        "\n",
        "# Display the Dask bag\n",
        "print(data_bag)\n",
        "data_bag.take(5) # Print first 5 entries to verify\n"
      ],
      "metadata": {
        "colab": {
          "base_uri": "https://localhost:8080/"
        },
        "id": "DaDqhscBrA-X",
        "outputId": "48db8605-b9f3-424e-8f96-a0391e08425f"
      },
      "execution_count": 4,
      "outputs": [
        {
          "output_type": "stream",
          "name": "stdout",
          "text": [
            "dask.bag<loads, npartitions=67>\n"
          ]
        },
        {
          "output_type": "execute_result",
          "data": {
            "text/plain": [
              "({'body type': 'hourglass',\n",
              "  'rating': '10',\n",
              "  'review_text': \"An adorable romper! Belt and zipper were a little hard to navigate in a full day of wear/bathroom use, but that's to be expected. Wish it had pockets, but other than that-- absolutely perfect! I got a million compliments.\",\n",
              "  'fit': 'fit'},\n",
              " {'body type': 'straight & narrow',\n",
              "  'rating': '10',\n",
              "  'review_text': 'I rented this dress for a photo shoot. The theme was \"Hollywood Glam and Big Beautiful Hats\". The dress was very comfortable and easy to move around in. It is definitely on my list to rent again for another formal event. ',\n",
              "  'fit': 'fit'},\n",
              " {'body type': 'pear',\n",
              "  'rating': '8',\n",
              "  'review_text': \"I rented this for my company's black tie awards banquet.  I liked that this dress was short but was a little fancier with the sequins. (I generally don't care for long dresses.)  I would describe the color as more rose gold than yellow gold.  I have blonde hair and fair skin, and the color was very flattering.  This is a very forgiving dress! It's form fitting without making you feel like you're squeezed into it.  I would rent this one again.  Highly recommend!\",\n",
              "  'fit': 'fit'},\n",
              " {'body type': 'athletic',\n",
              "  'rating': '10',\n",
              "  'review_text': \"I have always been petite in my upper body and extremely athletic. \\nI'm 5'9 and typically am a size 4,6,8 due to the fact I had a smaller upper frame and 34B cup. Depends what fabric were talking about too! \\nHowever, because I have been lifting weights my back has grown (odd to add- but figured I'd say it knowing other people lift weights) My lat area is so wide that I was suffocating in a size 6. If I wasn't as muscular in my back I would've been fine. I would recommend to go up a size if you are into lifting weights and very broad in your upper body. \",\n",
              "  'fit': 'fit'},\n",
              " {'body type': 'athletic',\n",
              "  'rating': '8',\n",
              "  'review_text': \"Didn't actually wear it. It fit perfectly. The fabric is a little thicker, so higher quality. Felt a bit too conservative for my taste. I rented it for the color and loved the berry shade of red.\",\n",
              "  'fit': 'fit'})"
            ]
          },
          "metadata": {},
          "execution_count": 4
        }
      ]
    }
  ]
}