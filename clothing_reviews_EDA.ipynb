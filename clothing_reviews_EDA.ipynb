{
  "nbformat": 4,
  "nbformat_minor": 0,
  "metadata": {
    "colab": {
      "provenance": [],
      "authorship_tag": "ABX9TyPJ5jxtaRu6AzFOELHYUo9m",
      "include_colab_link": true
    },
    "kernelspec": {
      "name": "python3",
      "display_name": "Python 3"
    },
    "language_info": {
      "name": "python"
    }
  },
  "cells": [
    {
      "cell_type": "markdown",
      "metadata": {
        "id": "view-in-github",
        "colab_type": "text"
      },
      "source": [
        "<a href=\"https://colab.research.google.com/github/yyqbb/DATA301-Project/blob/main/clothing_reviews_EDA.ipynb\" target=\"_parent\"><img src=\"https://colab.research.google.com/assets/colab-badge.svg\" alt=\"Open In Colab\"/></a>"
      ]
    },
    {
      "cell_type": "markdown",
      "source": [
        "# This is a seperate noteboook for my project dedicated solely to exploratory data analysis to understand my dataset better."
      ],
      "metadata": {
        "id": "3S3-UlWn2w8n"
      }
    },
    {
      "cell_type": "code",
      "execution_count": null,
      "metadata": {
        "colab": {
          "base_uri": "https://localhost:8080/"
        },
        "id": "2z8pne-LuFnY",
        "outputId": "7caacf13-823e-4cb6-b0ef-b9e14b1b819f"
      },
      "outputs": [
        {
          "output_type": "stream",
          "name": "stdout",
          "text": [
            "Mounted at /content/drive\n",
            "dask.bag<loads, npartitions=1>\n"
          ]
        },
        {
          "output_type": "execute_result",
          "data": {
            "text/plain": [
              "({'body type': 'hourglass',\n",
              "  'rating': '10',\n",
              "  'review_text': \"An adorable romper! Belt and zipper were a little hard to navigate in a full day of wear/bathroom use, but that's to be expected. Wish it had pockets, but other than that-- absolutely perfect! I got a million compliments.\",\n",
              "  'fit': 'fit'},\n",
              " {'body type': 'straight & narrow',\n",
              "  'rating': '10',\n",
              "  'review_text': 'I rented this dress for a photo shoot. The theme was \"Hollywood Glam and Big Beautiful Hats\". The dress was very comfortable and easy to move around in. It is definitely on my list to rent again for another formal event. ',\n",
              "  'fit': 'fit'},\n",
              " {'body type': 'pear',\n",
              "  'rating': '8',\n",
              "  'review_text': \"I rented this for my company's black tie awards banquet.  I liked that this dress was short but was a little fancier with the sequins. (I generally don't care for long dresses.)  I would describe the color as more rose gold than yellow gold.  I have blonde hair and fair skin, and the color was very flattering.  This is a very forgiving dress! It's form fitting without making you feel like you're squeezed into it.  I would rent this one again.  Highly recommend!\",\n",
              "  'fit': 'fit'},\n",
              " {'body type': 'athletic',\n",
              "  'rating': '10',\n",
              "  'review_text': \"I have always been petite in my upper body and extremely athletic. \\nI'm 5'9 and typically am a size 4,6,8 due to the fact I had a smaller upper frame and 34B cup. Depends what fabric were talking about too! \\nHowever, because I have been lifting weights my back has grown (odd to add- but figured I'd say it knowing other people lift weights) My lat area is so wide that I was suffocating in a size 6. If I wasn't as muscular in my back I would've been fine. I would recommend to go up a size if you are into lifting weights and very broad in your upper body. \",\n",
              "  'fit': 'fit'},\n",
              " {'body type': 'athletic',\n",
              "  'rating': '8',\n",
              "  'review_text': \"Didn't actually wear it. It fit perfectly. The fabric is a little thicker, so higher quality. Felt a bit too conservative for my taste. I rented it for the color and loved the berry shade of red.\",\n",
              "  'fit': 'fit'},\n",
              " {'body type': 'hourglass',\n",
              "  'rating': '10',\n",
              "  'review_text': 'This dress is so sweet. I loved the print. The fit is loose with a tie for the waist, which means it should flatter most figures. Another win from Kate Spade!',\n",
              "  'fit': 'fit'},\n",
              " {'body type': 'full bust',\n",
              "  'rating': '10',\n",
              "  'review_text': 'Fit was great. Maybe a little tight under the arms. ',\n",
              "  'fit': 'fit'},\n",
              " {'body type': 'full bust',\n",
              "  'rating': '10',\n",
              "  'review_text': 'I was nervous of it looking cheap when it arrived but I received a ton of compliments on it and it had built in support. I am a 36D and there was still that I was able to wear a bra with it with no problem. Wore with 3-4\" heels and it was perfect length.',\n",
              "  'fit': 'fit'},\n",
              " {'body type': 'petite',\n",
              "  'rating': '10',\n",
              "  'review_text': 'The dress was very flattering and fit perfectly through my stomach and hips. I have a booty so I always worry about how things are going to fit, but this was amazing. I have a small chest and didn\\'t fill out the built in bra as much as I would have liked, but it still looked great and I was comfortable in it. The dress had more stretch and give than I thought it would. I was worried I wouldn\\'t be able to enjoy dancing and while I couldn\\'t bust out break dance moves, I was able to dance without feeling completely restricted. I am always a zero in dresses and this fit true to size. I\\'m short, 5\\'3\" and I thought the length was perfect with a heel. Overall I\\'m very pleased with my order!! Thank you RTR!',\n",
              "  'fit': 'fit'},\n",
              " {'body type': 'athletic',\n",
              "  'rating': '8',\n",
              "  'review_text': \"The dress arrived with a small hole in the beading on the front but wasn't too noticeable. Glad I was able to get two sizes because the 4 was a little tight and would've made for an uncomfortable night of dancing! \",\n",
              "  'fit': 'small'})"
            ]
          },
          "metadata": {},
          "execution_count": 1
        }
      ],
      "source": [
        "from google.colab import drive\n",
        "drive.mount('/content/drive')\n",
        "\n",
        "import dask.bag as db\n",
        "import json\n",
        "\n",
        "# Specify the path to the saved files in Google Drive\n",
        "input_path = '/content/drive/MyDrive/processed_data.json'\n",
        "\n",
        "# Load the processed data from Google Drive\n",
        "data_bag = db.read_text(input_path).map(json.loads)\n",
        "\n",
        "# Display the Dask bag\n",
        "print(data_bag)\n",
        "data_bag.take(10)"
      ]
    },
    {
      "cell_type": "code",
      "source": [
        "# Import Dask DataFrame\n",
        "import dask.dataframe as dd\n",
        "\n",
        "# Convert Dask bag to Dask DataFrame\n",
        "data_df = data_bag.to_dataframe()\n",
        "\n",
        "# Convert 'rating' column to numerical values (assuming it's a string)\n",
        "data_df['rating'] = data_df['rating'].astype(float)\n",
        "\n",
        "# Group by 'body_type' and calculate the mean rating\n",
        "mean_ratings = data_df.groupby('body type')['rating'].mean()\n",
        "\n",
        "# Sort mean ratings from highest to lowest\n",
        "mean_ratings_sorted = mean_ratings.nlargest(n=len(mean_ratings))\n",
        "\n",
        "# Trigger computation if needed\n",
        "mean_ratings_sorted_computed = mean_ratings_sorted.compute()\n",
        "\n",
        "# Print sorted mean ratings for each body type\n",
        "print(mean_ratings_sorted_computed)"
      ],
      "metadata": {
        "colab": {
          "base_uri": "https://localhost:8080/"
        },
        "id": "-ehcUOyiztUY",
        "outputId": "ce280424-fb44-41c3-89b6-2041d3ded92d"
      },
      "execution_count": null,
      "outputs": [
        {
          "output_type": "stream",
          "name": "stdout",
          "text": [
            "body type\n",
            "straight & narrow    9.157338\n",
            "athletic             9.122010\n",
            "petite               9.079732\n",
            "hourglass            9.077783\n",
            "pear                 9.041399\n",
            "full bust            9.022468\n",
            "apple                8.928030\n",
            "Name: rating, dtype: float64\n"
          ]
        }
      ]
    },
    {
      "cell_type": "code",
      "source": [
        "!pip install nltk"
      ],
      "metadata": {
        "colab": {
          "base_uri": "https://localhost:8080/"
        },
        "id": "ZI4I5TKd-Efn",
        "outputId": "f036863a-a00f-400f-8774-49d34b6dfff1"
      },
      "execution_count": null,
      "outputs": [
        {
          "output_type": "stream",
          "name": "stdout",
          "text": [
            "Requirement already satisfied: nltk in /usr/local/lib/python3.10/dist-packages (3.8.1)\n",
            "Requirement already satisfied: click in /usr/local/lib/python3.10/dist-packages (from nltk) (8.1.7)\n",
            "Requirement already satisfied: joblib in /usr/local/lib/python3.10/dist-packages (from nltk) (1.4.2)\n",
            "Requirement already satisfied: regex>=2021.8.3 in /usr/local/lib/python3.10/dist-packages (from nltk) (2024.5.15)\n",
            "Requirement already satisfied: tqdm in /usr/local/lib/python3.10/dist-packages (from nltk) (4.66.4)\n"
          ]
        }
      ]
    },
    {
      "cell_type": "code",
      "source": [
        "import nltk\n",
        "nltk.download('stopwords')\n",
        "\n",
        "from nltk.corpus import stopwords\n",
        "\n",
        "STOP_WORDS = set(stopwords.words('english'))\n",
        "print(STOP_WORDS)"
      ],
      "metadata": {
        "colab": {
          "base_uri": "https://localhost:8080/"
        },
        "id": "j1d9oIQF_afe",
        "outputId": "9caf95f0-b29a-4c1c-b048-c80a72a7f1ce"
      },
      "execution_count": null,
      "outputs": [
        {
          "output_type": "stream",
          "name": "stdout",
          "text": [
            "{'with', 'being', 'have', 'are', 'if', 'such', 'who', 'under', 'we', 'our', 'this', 'needn', 'while', 'ma', 'and', \"mightn't\", 'against', 'nor', \"couldn't\", 'your', 'you', 'few', 'shan', 'ourselves', 'is', \"isn't\", 'no', 'because', 'than', 'very', 'ain', 'were', 'don', \"you'll\", 'does', \"you're\", 'there', 'same', 'mustn', 'should', 'she', 'through', 'once', 'an', 'my', 'ours', 'themselves', \"it's\", 'wouldn', 'the', 'all', \"aren't\", 'can', 'for', 'more', \"you'd\", 'her', 'further', 'just', 're', \"needn't\", 'after', 'on', 'before', 'haven', 'any', 'having', 'over', 'hasn', \"wouldn't\", 'he', 'me', 'until', 'again', 'off', 'shouldn', 'him', 'but', \"won't\", 'when', \"didn't\", \"mustn't\", 'y', 'its', \"that'll\", \"weren't\", 'whom', 'where', 's', 'a', 'both', 'or', 'up', 've', 'those', 'am', 'to', 'own', 'doing', 'some', 'mightn', 'was', 'their', 'yourselves', 'herself', 'here', 'out', 'not', 'aren', \"shan't\", 'couldn', 'between', 'o', 'that', 'been', 'be', 'about', \"hadn't\", \"doesn't\", 'i', 'at', 'hers', 'down', 'into', 'has', 'theirs', \"wasn't\", \"haven't\", 'it', 'himself', \"should've\", 'too', \"hasn't\", \"don't\", 'then', 'his', 'had', 'so', 'didn', 'm', 'they', 'now', 'why', 'of', 'doesn', 'each', 'will', 'hadn', 'yourself', 'these', 'myself', 'them', \"she's\", 'did', 'do', 'below', 'by', 'from', 'above', 't', \"shouldn't\", 'weren', 'yours', 'as', 'in', 'during', 'itself', 'd', 'isn', 'll', 'which', \"you've\", 'other', 'won', 'what', 'how', 'most', 'only', 'wasn'}\n"
          ]
        },
        {
          "output_type": "stream",
          "name": "stderr",
          "text": [
            "[nltk_data] Downloading package stopwords to /root/nltk_data...\n",
            "[nltk_data]   Unzipping corpora/stopwords.zip.\n"
          ]
        }
      ]
    },
    {
      "cell_type": "code",
      "source": [
        "import re\n",
        "from nltk.util import ngrams\n",
        "\n",
        "def remove_nonletters(word):\n",
        "    return re.sub(r'[^a-zA-Z]', '', word)\n",
        "\n",
        "def process_line(entry):\n",
        "    results = []\n",
        "    body_type = entry['body type']\n",
        "    # removes punctuation and converts to lowercase\n",
        "    review = re.sub(r'[^a-zA-Z ]', '', entry['review_text'].lower())\n",
        "    # Tokenize the review into words\n",
        "    words = review.split()\n",
        "    # Generate trigrams\n",
        "    trigrams_list = list(ngrams(words, 3))\n",
        "    # Filter out trigrams containing stop words and non-letter characters\n",
        "    trigrams_cleaned = [' '.join(trigram) for trigram in trigrams_list if all(word not in STOP_WORDS for word in trigram) and all(re.match(r'^[a-zA-Z]+$', word) for word in trigram)]\n",
        "    return [(body_type, trigram) for trigram in trigrams_cleaned]\n",
        "\n",
        "# Load the processed data from Google Drive using Dask bag\n",
        "data_bag = db.read_text(input_path).map(json.loads)\n",
        "\n",
        "# Process the lines to extract relevant information\n",
        "trigrams_bag = data_bag.map(process_line).flatten()\n",
        "\n",
        "# Convert Dask bag to Dask DataFrame\n",
        "trigrams_df = trigrams_bag.to_dataframe(columns=['body type', 'trigram'])\n",
        "\n",
        "# Group by 'body type' and 'trigram', then count occurrences\n",
        "trigrams_with_counts = trigrams_df.groupby(['body type', 'trigram']).size().to_frame('counts').reset_index()\n",
        "\n",
        "# Print the top ten trigrams for each body type\n",
        "for body_type in trigrams_with_counts['body type'].unique().compute():\n",
        "    print(f\"Top ten trigrams for {body_type} body type:\")\n",
        "    print(trigrams_with_counts[trigrams_with_counts['body type'] == body_type].nlargest(10, 'counts').compute())"
      ],
      "metadata": {
        "colab": {
          "base_uri": "https://localhost:8080/"
        },
        "id": "iK_CljLp_uOx",
        "outputId": "7243edc7-9fec-4543-94ff-f210d6154a41"
      },
      "execution_count": null,
      "outputs": [
        {
          "output_type": "stream",
          "name": "stdout",
          "text": [
            "Top ten trigrams for apple body type:\n",
            "      body type                     trigram  counts\n",
            "14037     apple       would definitely rent      78\n",
            "10095     apple   received many compliments      53\n",
            "14036     apple  would definitely recommend      43\n",
            "13873     apple             wore inch heels      34\n",
            "1307      apple           black tie wedding      30\n",
            "5607      apple        got many compliments      30\n",
            "14074     apple      would highly recommend      28\n",
            "3455      apple             dress fit great      25\n",
            "3459      apple         dress fit perfectly      23\n",
            "3466      apple              dress fit well      23\n",
            "Top ten trigrams for athletic body type:\n",
            "       body type                     trigram  counts\n",
            "113299  athletic       would definitely rent     968\n",
            "85065   athletic   received many compliments     760\n",
            "113295  athletic  would definitely recommend     636\n",
            "112160  athletic             wore inch heels     510\n",
            "38304   athletic         dress fit perfectly     442\n",
            "113460  athletic      would highly recommend     412\n",
            "23289   athletic           black tie wedding     323\n",
            "38287   athletic              dress fit like     298\n",
            "53314   athletic        got many compliments     269\n",
            "38281   athletic             dress fit great     227\n",
            "Top ten trigrams for full bust body type:\n",
            "        body type                     trigram  counts\n",
            "154202  full bust       would definitely rent     309\n",
            "143439  full bust   received many compliments     201\n",
            "154198  full bust  would definitely recommend     165\n",
            "133255  full bust           im typically btwn     146\n",
            "124916  full bust         dress fit perfectly     139\n",
            "153682  full bust             wore inch heels     115\n",
            "132410  full bust     highly highly recommend     106\n",
            "118798  full bust           black tie wedding     101\n",
            "130918  full bust        got many compliments      81\n",
            "154269  full bust      would highly recommend      77\n",
            "Top ten trigrams for hourglass body type:\n",
            "        body type                     trigram  counts\n",
            "285166  hourglass       would definitely rent    1185\n",
            "248465  hourglass   received many compliments     829\n",
            "285162  hourglass  would definitely recommend     693\n",
            "283720  hourglass             wore inch heels     523\n",
            "186579  hourglass         dress fit perfectly     480\n",
            "285356  hourglass      would highly recommend     419\n",
            "186564  hourglass              dress fit like     393\n",
            "166613  hourglass           black tie wedding     392\n",
            "206545  hourglass        got many compliments     301\n",
            "186551  hourglass             dress fit great     248\n",
            "Top ten trigrams for pear body type:\n",
            "       body type                     trigram  counts\n",
            "344943      pear       would definitely rent     479\n",
            "328650      pear   received many compliments     372\n",
            "344940      pear  would definitely recommend     308\n",
            "301422      pear         dress fit perfectly     204\n",
            "344270      pear             wore inch heels     197\n",
            "345060      pear      would highly recommend     168\n",
            "292850      pear           black tie wedding     159\n",
            "310098      pear        got many compliments     149\n",
            "301409      pear              dress fit like     112\n",
            "306755      pear             fit really well     104\n",
            "Top ten trigrams for petite body type:\n",
            "                body type                     trigram  counts\n",
            "440364  straight & narrow       would definitely rent     287\n",
            "429296  straight & narrow   received many compliments     234\n",
            "440363  straight & narrow  would definitely recommend     224\n",
            "439857  straight & narrow             wore inch heels     175\n",
            "410718  straight & narrow         dress fit perfectly     152\n",
            "404811  straight & narrow           black tie wedding     122\n",
            "440443  straight & narrow      would highly recommend     106\n",
            "410707  straight & narrow              dress fit like      98\n",
            "440581  straight & narrow      would recommend sizing      98\n",
            "418770  straight & narrow         id recommend sizing      89\n"
          ]
        }
      ]
    },
    {
      "cell_type": "code",
      "source": [
        "import matplotlib.pyplot as plt\n",
        "import numpy as np\n",
        "\n",
        "# Mean ratings for each body type\n",
        "mean_ratings = {\n",
        "    'straight & narrow': 9.157338,\n",
        "    'athletic': 9.122010,\n",
        "    'petite': 9.079732,\n",
        "    'hourglass': 9.077783,\n",
        "    'pear': 9.041399,\n",
        "    'full bust': 9.022468,\n",
        "    'apple': 8.928030\n",
        "}\n",
        "\n",
        "# Overall mean rating\n",
        "overall_mean = np.mean(list(mean_ratings.values()))\n",
        "\n",
        "# Calculate differences from the overall mean\n",
        "differences = {body_type: rating - overall_mean for body_type, rating in mean_ratings.items()}\n",
        "\n",
        "# Sort the differences\n",
        "sorted_differences = sorted(differences.items(), key=lambda x: x[1])\n",
        "\n",
        "# Extract body types and differences\n",
        "body_types, diffs = zip(*sorted_differences)\n",
        "\n",
        "# Plot diverging bar chart\n",
        "plt.figure(figsize=(10, 6))\n",
        "plt.barh(body_types, diffs, color=['green' if diff > 0 else 'red' for diff in diffs])\n",
        "plt.axvline(x=0, color='gray', linestyle='--', linewidth=0.5)  # Add a vertical line at 0\n",
        "plt.title('Diverging Bar Chart of Mean Ratings for Each Body Type')\n",
        "plt.xlabel('Difference from Overall Mean Rating')\n",
        "plt.ylabel('Body Type')\n",
        "plt.grid(axis='x', linestyle='--', alpha=0.7)\n",
        "plt.tight_layout()\n",
        "plt.show()\n"
      ],
      "metadata": {
        "colab": {
          "base_uri": "https://localhost:8080/",
          "height": 607
        },
        "id": "SDNIjB2QN1Rb",
        "outputId": "f0cd12e7-fb9c-47b3-92f4-2ac34a077599"
      },
      "execution_count": null,
      "outputs": [
        {
          "output_type": "display_data",
          "data": {
            "text/plain": [
              "<Figure size 1000x600 with 1 Axes>"
            ],
            "image/png": "[encoded data removed]"
          },
          "metadata": {}
        }
      ]
    }
  ]
}